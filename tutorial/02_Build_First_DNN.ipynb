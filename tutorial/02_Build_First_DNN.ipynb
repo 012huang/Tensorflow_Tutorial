{
 "cells": [
  {
   "cell_type": "code",
   "execution_count": 75,
   "metadata": {},
   "outputs": [],
   "source": [
    "from __future__ import print_function\n",
    "import numpy as np\n",
    "import tensorflow as tf\n",
    "import matplotlib.pyplot as plt\n",
    "import random\n",
    "\n",
    "# Config the matplotlib backend as plotting inline in IPython\n",
    "%matplotlib inline\n",
    "\n",
    "def summary(ndarr):\n",
    "    print(ndarr)\n",
    "    print(\"* shape: {}\".format(ndarr.shape))\n",
    "    print(\"* min: {}\".format(np.min(ndarr)))\n",
    "    print(\"* max: {}\".format(np.max(ndarr)))\n",
    "    print(\"* avg: {}\".format(np.mean(ndarr)))\n",
    "    print(\"* std: {}\".format(np.std(ndarr)))\n",
    "    print(\"* unique: {}\".format(np.unique(ndarr)))"
   ]
  },
  {
   "cell_type": "code",
   "execution_count": 76,
   "metadata": {},
   "outputs": [
    {
     "name": "stdout",
     "output_type": "stream",
     "text": [
      "Extracting MNIST_data/train-images-idx3-ubyte.gz\n",
      "Extracting MNIST_data/train-labels-idx1-ubyte.gz\n",
      "Extracting MNIST_data/t10k-images-idx3-ubyte.gz\n",
      "Extracting MNIST_data/t10k-labels-idx1-ubyte.gz\n"
     ]
    }
   ],
   "source": [
    "from tensorflow.examples.tutorials.mnist import input_data\n",
    "mnist = input_data.read_data_sets(\"MNIST_data/\", one_hot=True)\n",
    "\n",
    "train_data = mnist.train\n",
    "valid_data = mnist.validation\n",
    "test_data = mnist.test"
   ]
  },
  {
   "cell_type": "code",
   "execution_count": 122,
   "metadata": {},
   "outputs": [],
   "source": [
    "class DNNLogisticClassification(object):\n",
    "    def __init__(self,n_features,n_labels,learning_rate=0.5,n_hidden=1000,dropout_ratio=0.5,alpha=0.0):\n",
    "        self.n_features = n_features\n",
    "        self.n_labels = n_labels\n",
    "        self.graph = tf.Graph()\n",
    "        self.build(learning_rate,n_hidden,dropout_ratio,alpha)\n",
    "        self.sess = tf.Session(graph=self.graph)\n",
    "        \n",
    "    def build(self,learning_rate,n_hidden,dropout_ratio,alpha):\n",
    "        with self.graph.as_default():\n",
    "            ### Input\n",
    "            self.features = tf.placeholder(tf.float32, shape=(None,self.n_features))\n",
    "            self.labels   = tf.placeholder(tf.int32  , shape=(None,self.n_labels))\n",
    "            self.keep_prob= tf.placeholder(tf.float32)\n",
    "            self.train_keep_prob = 1-dropout_ratio\n",
    "            \n",
    "            ### Computation\n",
    "            self.Weights = {}\n",
    "            self.Biases  = {} \n",
    "            self.Scores  = {}\n",
    "            self.Xs      = {}\n",
    "            \n",
    "            self.Weights['fc1'], self.Biases['fc1'], self.Scores['fc1'], self.Xs['fc1'] \\\n",
    "                      = self.getDenseLayer(self.features, n_hidden, activation=tf.nn.relu)\n",
    "            \n",
    "            self.drop_x2 = tf.nn.dropout(self.Xs['fc1'], keep_prob=self.keep_prob)\n",
    "            \n",
    "            self.Weights['fc2'], self.Biases['fc2'], self.Scores['fc2'], self.Xs['fc2'] \\\n",
    "                      = self.getDenseLayer(self.drop_x2, self.n_labels, activation=tf.nn.softmax)\n",
    "                \n",
    "            self.logits = self.Scores['fc2']\n",
    "            self.y_ = self.Xs['fc2'] \n",
    "            \n",
    "            \n",
    "            ### Optimalization\n",
    "            self.original_loss = tf.reduce_mean(\n",
    "                            tf.nn.softmax_cross_entropy_with_logits(labels=self.labels,logits=self.logits))\n",
    "            self.regularization = tf.reduce_mean(\n",
    "                                   [tf.nn.l2_loss(w)/tf.cast(tf.shape(w)[0]*tf.shape(w)[1],tf.float32)\n",
    "                                        for k,w in self.Weights.items()])\n",
    "            self.loss = self.original_loss + alpha * self.regularization\n",
    "            \n",
    "            self.train_op = tf.train.GradientDescentOptimizer(learning_rate).minimize(self.loss)\n",
    "            \n",
    "            ### Initialization\n",
    "            self.init_op = tf.global_variables_initializer()\n",
    "            \n",
    "    def getDenseLayer(self,input_layer,n_output,activation=None):\n",
    "        n_input = int(input_layer.shape[1])\n",
    "        W = tf.Variable(\n",
    "                    tf.truncated_normal( shape=(n_input,n_output) ))\n",
    "        b = tf.Variable(tf.zeros( shape=(n_output) ))\n",
    "        s = tf.add(tf.matmul(input_layer,W),b)\n",
    "        if activation:\n",
    "            x_new = activation(s)\n",
    "        else:\n",
    "            x_new = None\n",
    "        return (W,b,s,x_new)\n",
    "    \n",
    "    def fit(self,X,y,epochs=10,validation_data=None,test_data=None,batch_size=None):\n",
    "        N = X.shape[0]\n",
    "        random.seed(9000)\n",
    "        if not batch_size: batch_size=N\n",
    "        \n",
    "        self.sess.run(self.init_op)\n",
    "        for epoch in range(epochs):\n",
    "            print(\"Epoch %2d/%2d: \"%(epoch+1,epochs))\n",
    "            index = random.shuffle([i for i in range(N)])\n",
    "\n",
    "            k = 0\n",
    "            while k < N:\n",
    "                batch_index = [i for i in range(k,min(k+batch_size,N))]    \n",
    "            \n",
    "                feed_dict = {self.features: X[batch_index,:], \n",
    "                             self.labels: y[batch_index], \n",
    "                             self.keep_prob: self.train_keep_prob,}\n",
    "                _, loss = self.sess.run([self.train_op, self.loss], feed_dict=feed_dict)\n",
    "                \n",
    "                print(\"[%d/%d] loss = %9.4f                      \" % ( k, N, loss ), end='\\r')\n",
    "                \n",
    "                k += batch_size\n",
    "            \n",
    "            y_ = self.predict(X)\n",
    "            train_loss = self.evaluate(X,y)\n",
    "            train_acc = self.accuracy(y_,y)\n",
    "            msg = \"[%d/%d] loss = %8.4f, acc = %3.2f%%\" % ( N, N, train_loss, train_acc*100 )\n",
    "            \n",
    "            if validation_data:\n",
    "                val_loss = self.evaluate(validation_data[0],validation_data[1])\n",
    "                val_acc = self.accuracy(self.predict(validation_data[0]),validation_data[1])\n",
    "                msg += \", val_loss = %8.4f, val_acc = %3.2f%%\" % ( val_loss, val_acc*100 )\n",
    "            \n",
    "            print(msg)\n",
    "            \n",
    "            \n",
    "        if test_data:\n",
    "            test_acc = self.accuracy(self.predict(test_data[0]),test_data[1])\n",
    "            print(\"test_acc = %3.2f%%\" % (test_acc*100))\n",
    "            \n",
    "    def accuracy(self, predictions, labels):\n",
    "        return (np.sum(np.argmax(predictions, 1) == np.argmax(labels, 1))/predictions.shape[0])\n",
    "    \n",
    "    def predict(self,X):\n",
    "        return self.sess.run(self.y_, feed_dict={self.features: X, self.keep_prob: 1.0})\n",
    "    \n",
    "    def evaluate(self,X,y):\n",
    "        return self.sess.run(self.loss, feed_dict={self.features: X, self.labels: y, self.keep_prob: 1.0})\n"
   ]
  },
  {
   "cell_type": "code",
   "execution_count": 123,
   "metadata": {},
   "outputs": [
    {
     "name": "stdout",
     "output_type": "stream",
     "text": [
      "Epoch  1/ 3: \n",
      "[55000/55000] loss =   0.9960, acc = 95.57%, val_loss =   1.7792, val_acc = 94.54%\n",
      "Epoch  2/ 3: \n",
      "[55000/55000] loss =   0.3474, acc = 97.55%, val_loss =   1.3377, val_acc = 95.24%\n",
      "Epoch  3/ 3: \n",
      "[55000/55000] loss =   0.1115, acc = 98.77%, val_loss =   1.1443, val_acc = 95.66%\n",
      "test_acc = 94.94%\n"
     ]
    }
   ],
   "source": [
    "model = DNNLogisticClassification(   n_features=28*28,\n",
    "                                     n_labels=10,\n",
    "                                     learning_rate=0.5,\n",
    "                                     n_hidden=3000,\n",
    "                                     dropout_ratio=0.0,\n",
    "                                     alpha=0.01,\n",
    "                                 )\n",
    "model.fit(X=train_data.images,\n",
    "          y=train_data.labels,\n",
    "          epochs=3,\n",
    "          validation_data=(valid_data.images,valid_data.labels),\n",
    "          test_data=(test_data.images,test_data.labels),\n",
    "          batch_size = 128,\n",
    "         )"
   ]
  },
  {
   "cell_type": "code",
   "execution_count": 124,
   "metadata": {},
   "outputs": [
    {
     "name": "stdout",
     "output_type": "stream",
     "text": [
      "Epoch  1/ 3: \n",
      "[55000/55000] loss =   1.3701, acc = 96.03%, val_loss =   1.9417, val_acc = 95.62%\n",
      "Epoch  2/ 3: \n",
      "[55000/55000] loss =   0.5220, acc = 97.48%, val_loss =   1.1979, val_acc = 96.18%\n",
      "Epoch  3/ 3: \n",
      "[55000/55000] loss =   0.2798, acc = 98.00%, val_loss =   0.9924, val_acc = 96.50%\n",
      "test_acc = 96.04%\n"
     ]
    }
   ],
   "source": [
    "model = DNNLogisticClassification(   n_features=28*28,\n",
    "                                     n_labels=10,\n",
    "                                     learning_rate=0.5,\n",
    "                                     n_hidden=3000,\n",
    "                                     dropout_ratio=0.5,\n",
    "                                     alpha=0.01,\n",
    "                                 )\n",
    "model.fit(X=train_data.images,\n",
    "          y=train_data.labels,\n",
    "          epochs=3,\n",
    "          validation_data=(valid_data.images,valid_data.labels),\n",
    "          test_data=(test_data.images,test_data.labels),\n",
    "          batch_size = 128,\n",
    "         )"
   ]
  },
  {
   "cell_type": "code",
   "execution_count": null,
   "metadata": {},
   "outputs": [],
   "source": []
  }
 ],
 "metadata": {
  "kernelspec": {
   "display_name": "Python 3",
   "language": "python",
   "name": "python3"
  },
  "language_info": {
   "codemirror_mode": {
    "name": "ipython",
    "version": 3
   },
   "file_extension": ".py",
   "mimetype": "text/x-python",
   "name": "python",
   "nbconvert_exporter": "python",
   "pygments_lexer": "ipython3",
   "version": "3.6.1"
  }
 },
 "nbformat": 4,
 "nbformat_minor": 2
}
