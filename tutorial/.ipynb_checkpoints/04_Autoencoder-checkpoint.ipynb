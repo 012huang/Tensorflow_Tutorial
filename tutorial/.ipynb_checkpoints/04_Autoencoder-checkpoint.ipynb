{
 "cells": [
  {
   "cell_type": "code",
   "execution_count": 3,
   "metadata": {},
   "outputs": [],
   "source": [
    "from __future__ import print_function\n",
    "import numpy as np\n",
    "import tensorflow as tf\n",
    "import matplotlib.pyplot as plt\n",
    "import random\n",
    "\n",
    "# Config the matplotlib backend as plotting inline in IPython\n",
    "%matplotlib inline\n",
    "\n",
    "def summary(ndarr):\n",
    "    print(ndarr)\n",
    "    print(\"* shape: {}\".format(ndarr.shape))\n",
    "    print(\"* min: {}\".format(np.min(ndarr)))\n",
    "    print(\"* max: {}\".format(np.max(ndarr)))\n",
    "    print(\"* avg: {}\".format(np.mean(ndarr)))\n",
    "    print(\"* std: {}\".format(np.std(ndarr)))\n",
    "    print(\"* unique: {}\".format(np.unique(ndarr)))"
   ]
  },
  {
   "cell_type": "code",
   "execution_count": 4,
   "metadata": {},
   "outputs": [
    {
     "name": "stdout",
     "output_type": "stream",
     "text": [
      "Extracting MNIST_data/train-images-idx3-ubyte.gz\n",
      "Extracting MNIST_data/train-labels-idx1-ubyte.gz\n",
      "Extracting MNIST_data/t10k-images-idx3-ubyte.gz\n",
      "Extracting MNIST_data/t10k-labels-idx1-ubyte.gz\n"
     ]
    }
   ],
   "source": [
    "from tensorflow.examples.tutorials.mnist import input_data\n",
    "mnist = input_data.read_data_sets(\"MNIST_data/\", one_hot=True)\n",
    "\n",
    "train_data = mnist.train\n",
    "valid_data = mnist.validation\n",
    "test_data = mnist.test"
   ]
  },
  {
   "cell_type": "code",
   "execution_count": 5,
   "metadata": {},
   "outputs": [],
   "source": [
    "def plot_fatten_img(ndarr):\n",
    "    img = ndarr.copy()\n",
    "    img.shape = (28,28)\n",
    "    plt.imshow(img, cmap='gray')\n",
    "    plt.show()"
   ]
  },
  {
   "cell_type": "code",
   "execution_count": 6,
   "metadata": {},
   "outputs": [],
   "source": [
    "class Autoencoder(object):\n",
    "    def __init__(self,n_features,learning_rate=0.5,n_hidden=[128,64],alpha=0.0):\n",
    "        self.n_features = n_features\n",
    "        \n",
    "        self.weights = None\n",
    "        self.biases = None\n",
    "        \n",
    "        self.graph = tf.Graph() # initialize new grap\n",
    "        self.build(n_features,learning_rate,n_hidden,alpha) # building graph\n",
    "        self.sess = tf.Session(graph=self.graph) # create session by the graph \n",
    "        \n",
    "    def build(self,n_features,learning_rate,n_hidden,alpha):\n",
    "        with self.graph.as_default():\n",
    "            ### Input\n",
    "            self.train_features = tf.placeholder(tf.float32, shape=(None,n_features))\n",
    "\n",
    "            ### Optimalization\n",
    "            # build neurel network structure and get their predictions and loss\n",
    "            self.y_, self.original_loss, _ = self.structure(\n",
    "                                               features=self.train_features,\n",
    "                                               n_hidden=n_hidden)\n",
    "            \n",
    "            # regularization loss\n",
    "            self.regularization = tf.reduce_mean(\n",
    "                                   [tf.nn.l2_loss(w)/tf.size(w,out_type=tf.float32)\n",
    "                                        for w in self.weights.values()])\n",
    "            # total loss\n",
    "            self.loss = self.original_loss + alpha * self.regularization\n",
    "            \n",
    "            # define training operation\n",
    "            self.optimizer = tf.train.AdamOptimizer(learning_rate=learning_rate)\n",
    "            self.train_op = self.optimizer.minimize(self.loss)\n",
    "            \n",
    "            ### Prediction\n",
    "            self.new_features = tf.placeholder(tf.float32, shape=(None,n_features))\n",
    "            self.new_y_, self.new_loss, self.new_encode = self.structure(\n",
    "                                                          features=self.new_features,\n",
    "                                                          n_hidden=n_hidden)     \n",
    "            \n",
    "            ### Initialization\n",
    "            self.init_op = tf.global_variables_initializer()  \n",
    "    \n",
    "    def structure(self,features,n_hidden):\n",
    "        ### Variable\n",
    "        if (not self.weights) and (not self.biases):\n",
    "            self.weights = {\n",
    "                'encode1': tf.Variable(tf.truncated_normal(\n",
    "                    shape=(self.n_features,n_hidden[0]))), \n",
    "                'encode2': tf.Variable(tf.truncated_normal(\n",
    "                    shape=(n_hidden[0],n_hidden[1]))),\n",
    "                'decode1': tf.Variable(tf.truncated_normal(\n",
    "                    shape=(n_hidden[1],n_hidden[0]))),\n",
    "                'decode2': tf.Variable(tf.truncated_normal(\n",
    "                    shape=(n_hidden[0],self.n_features))),    \n",
    "            }\n",
    "            self.biases  = {\n",
    "                'encode1': tf.Variable(tf.zeros( shape=(n_hidden[0]) )),\n",
    "                'encode2': tf.Variable(tf.zeros( shape=(n_hidden[1]) )),\n",
    "                'decode1': tf.Variable(tf.zeros( shape=(n_hidden[0]) )),\n",
    "                'decode2': tf.Variable(tf.zeros( shape=(self.n_features) )),\n",
    "            } \n",
    "        \n",
    "        ### Structure\n",
    "        encode1 = self.getDenseLayer(features,\n",
    "                                     self.weights['encode1'],self.biases['encode1'],\n",
    "                                     activation=tf.nn.sigmoid)\n",
    "        encode2 = self.getDenseLayer(encode1,\n",
    "                                     self.weights['encode2'],self.biases['encode2'],\n",
    "                                     activation=tf.nn.sigmoid)        \n",
    "        decode1 = self.getDenseLayer(encode2,\n",
    "                                     self.weights['decode1'],self.biases['decode1'],\n",
    "                                     activation=tf.nn.sigmoid)\n",
    "        y_ =  self.getDenseLayer(decode1,\n",
    "                                     self.weights['decode2'],self.biases['decode2'],\n",
    "                                     activation=tf.nn.sigmoid)        \n",
    "        \n",
    "        loss = tf.reduce_mean(tf.pow(features - y_, 2))\n",
    "        \n",
    "        encode = encode2\n",
    "\n",
    "        return (y_,loss,encode)\n",
    "    \n",
    "    def getDenseLayer(self,input_layer,weight,bias,activation=None):\n",
    "        x = tf.add(tf.matmul(input_layer,weight),bias)\n",
    "        if activation:\n",
    "            x = activation(x)\n",
    "        return x\n",
    "    \n",
    "    \n",
    "    def fit(self,X,epochs=10,validation_data=None,test_data=None,batch_size=None):\n",
    "        X = self._check_array(X)\n",
    "        \n",
    "        N = X.shape[0]\n",
    "        random.seed(9000)\n",
    "        if not batch_size: batch_size=N\n",
    "        \n",
    "        self.sess.run(self.init_op)\n",
    "        for epoch in range(epochs):\n",
    "            print(\"Epoch %2d/%2d: \"%(epoch+1,epochs))\n",
    "            \n",
    "            # mini-batch gradient descent\n",
    "            index = [i for i in range(N)]\n",
    "            random.shuffle(index)\n",
    "            while len(index)>0:\n",
    "                index_size = len(index)\n",
    "                batch_index = [index.pop() for _ in range(min(batch_size,index_size))]     \n",
    "            \n",
    "                feed_dict = {self.train_features: X[batch_index,:]}\n",
    "                _, loss = self.sess.run([self.train_op, self.loss], feed_dict=feed_dict)\n",
    "\n",
    "                print(\"[%d/%d] loss = %9.4f     \" % ( N-len(index), N, loss ), end='\\r')\n",
    "                \n",
    "            \n",
    "            # evaluate at the end of this epoch\n",
    "            msg_valid = \"\"\n",
    "            if validation_data is not None:\n",
    "                val_loss = self.evaluate(validation_data[0])\n",
    "                msg_valid = \", val_loss = %9.4f\" % ( val_loss )\n",
    "            \n",
    "            train_loss = self.evaluate(X)\n",
    "            print(\"[%d/%d] loss = %9.4f %s\" % ( N, N, train_loss, msg_valid ))\n",
    "            \n",
    "        if test_data is not None:\n",
    "            test_loss = self.evaluate(test_data[0])\n",
    "            print(\"test_loss = %9.4f\" % (test_loss))\n",
    "    \n",
    "    def encode(self,X):\n",
    "        X = self._check_array(X)\n",
    "        return self.sess.run(self.new_encode, feed_dict={self.new_features: X})\n",
    "    \n",
    "    def predict(self,X):\n",
    "        X = self._check_array(X)\n",
    "        return self.sess.run(self.new_y_, feed_dict={self.new_features: X})\n",
    "    \n",
    "    def evaluate(self,X):\n",
    "        X = self._check_array(X)\n",
    "        return self.sess.run(self.new_loss, feed_dict={self.new_features: X})\n",
    "    \n",
    "    def _check_array(self,ndarray):\n",
    "        ndarray = np.array(ndarray)\n",
    "        if len(ndarray.shape)==1: ndarray = np.reshape(ndarray,(1,ndarray.shape[0]))\n",
    "        return ndarray\n"
   ]
  },
  {
   "cell_type": "code",
   "execution_count": null,
   "metadata": {},
   "outputs": [
    {
     "name": "stdout",
     "output_type": "stream",
     "text": [
      "Epoch  1/ 5: \n",
      "[43048/55000] loss =    0.0365     \r"
     ]
    }
   ],
   "source": [
    "model = Autoencoder( n_features=28*28,\n",
    "                     learning_rate= 0.005,\n",
    "                     n_hidden=[64,16],\n",
    "                     alpha=0.0,\n",
    "                    )\n",
    "model.fit(X=train_data.images,\n",
    "          epochs=5,\n",
    "          validation_data=(valid_data.images),\n",
    "          test_data=(test_data.images),\n",
    "          batch_size = 8,\n",
    "         )\n",
    "\n",
    "fig, axis = plt.subplots(2, 10, figsize=(10, 2))\n",
    "for i in range(0,10):\n",
    "    img_original = np.reshape(test_data.images[i],(28,28))\n",
    "    axis[0][i].imshow(img_original, cmap='gray')\n",
    "    img = np.reshape(model.predict(test_data.images[i]),(28,28))\n",
    "    axis[1][i].imshow(img, cmap='gray')\n",
    "plt.show()"
   ]
  },
  {
   "cell_type": "code",
   "execution_count": 30,
   "metadata": {},
   "outputs": [
    {
     "name": "stdout",
     "output_type": "stream",
     "text": [
      "Epoch  1/ 5: \n",
      "[55000/55000] loss =    0.0390 , val_loss =    0.0522\n",
      "Epoch  2/ 5: \n",
      "[55000/55000] loss =    0.0355 , val_loss =    0.0485\n",
      "Epoch  3/ 5: \n",
      "[55000/55000] loss =    0.0349 , val_loss =    0.0496\n",
      "Epoch  4/ 5: \n",
      "[55000/55000] loss =    0.0352 , val_loss =    0.0478\n",
      "Epoch  5/ 5: \n",
      "[55000/55000] loss =    0.0349 , val_loss =    0.0525\n",
      "test_loss =    0.0207\n"
     ]
    },
    {
     "data": {
      "image/png": "[encoded data removed]",
      "text/plain": [
       "<matplotlib.figure.Figure at 0x111f189b0>"
      ]
     },
     "metadata": {},
     "output_type": "display_data"
    }
   ],
   "source": [
    "model2 = Autoencoder( n_features=28*28,\n",
    "                     learning_rate= 0.005,\n",
    "                     n_hidden=[64,16],\n",
    "                     alpha=0.2,\n",
    "                    )\n",
    "model2.fit(X=train_data.images,\n",
    "          epochs=5,\n",
    "          validation_data=(valid_data.images),\n",
    "          test_data=(test_data.images),\n",
    "          batch_size = 8,\n",
    "         )\n",
    "\n",
    "fig, axis = plt.subplots(2, 10, figsize=(10, 2))\n",
    "for i in range(0,10):\n",
    "    img_original = np.reshape(test_data.images[i],(28,28))\n",
    "    axis[0][i].imshow(img_original, cmap='gray')\n",
    "    img = np.reshape(model2.predict(test_data.images[i]),(28,28))\n",
    "    axis[1][i].imshow(img, cmap='gray')\n",
    "plt.show()"
   ]
  },
  {
   "cell_type": "code",
   "execution_count": 8,
   "metadata": {},
   "outputs": [
    {
     "name": "stdout",
     "output_type": "stream",
     "text": [
      "[ 0.16153094  0.92596656  0.99916625  0.18407701  0.9997378   0.98678648\n",
      "  0.99493611  0.00565049  0.49653858  0.99797612  0.9941116   0.99573416\n",
      "  0.97327864  0.98180598  0.67971194  0.99996698  0.07969672  0.9999994\n",
      "  0.28558242  0.99535477  0.49200705  0.99145538  0.45877504  0.99436635\n",
      "  0.00856398  0.42094052  0.99983776  0.3300631   0.21402548  0.67096198\n",
      "  0.56077957  0.84070432  0.32630485  0.99903071  0.74717754  0.37090036\n",
      "  0.99590921  0.02847119  0.39775816  0.99104857  0.99997735  0.89178711\n",
      "  0.99866986  0.86530387  0.73937887  0.71504307  0.87168825  1.\n",
      "  0.99901974  0.00821809  0.99747485  0.87762266  0.97224122  0.87844807\n",
      "  0.32324076  0.39346349  0.00515429  0.99983358  0.56055486  0.86588007\n",
      "  0.99190676  0.86589909  0.00555018  0.99779981  0.92593765  0.10595657\n",
      "  0.23066716  0.99927956  0.00647018  0.81106627  0.82081521  0.78174931\n",
      "  0.95337939  0.99999976  0.10582721  0.04825417  0.26747212  0.06129796\n",
      "  0.55835855  0.68675327  0.98711967  0.7852177   0.18459493  0.38554755\n",
      "  0.18903147  0.9999088   0.57199407  0.21201625  0.74207491  0.99999964\n",
      "  0.53770965  0.99623388  0.13427207  0.99978107  0.31639853  0.99777597\n",
      "  0.01016588  0.210049    0.03003078  0.27825946  0.13160744  0.97283268\n",
      "  0.9990871   0.98097712  0.21377063  0.99597305  0.13448496  0.57066256\n",
      "  0.99708921  0.6745069   0.88102186  0.99448293  0.22291996  0.70055884\n",
      "  0.94840348  0.99944896  0.00942373  0.26544327  0.91003561  0.78864652\n",
      "  0.13193917  0.12859225  0.19449398  0.98464799  0.99382037  0.00998222\n",
      "  0.16476692  0.9999671 ]\n"
     ]
    }
   ],
   "source": [
    "encode = model2.encode(test_data.images)\n",
    "print(encode[0])"
   ]
  },
  {
   "cell_type": "code",
   "execution_count": null,
   "metadata": {},
   "outputs": [],
   "source": [
    "from sklearn.decomposition import PCA\n",
    "pca = PCA(n_components=64)"
   ]
  }
 ],
 "metadata": {
  "kernelspec": {
   "display_name": "Python 3",
   "language": "python",
   "name": "python3"
  },
  "language_info": {
   "codemirror_mode": {
    "name": "ipython",
    "version": 3
   },
   "file_extension": ".py",
   "mimetype": "text/x-python",
   "name": "python",
   "nbconvert_exporter": "python",
   "pygments_lexer": "ipython3",
   "version": "3.6.1"
  }
 },
 "nbformat": 4,
 "nbformat_minor": 2
}
