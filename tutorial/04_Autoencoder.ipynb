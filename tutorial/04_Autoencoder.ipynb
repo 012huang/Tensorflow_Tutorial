{
 "cells": [
  {
   "cell_type": "code",
   "execution_count": 49,
   "metadata": {},
   "outputs": [],
   "source": [
    "from __future__ import print_function\n",
    "import numpy as np\n",
    "import tensorflow as tf\n",
    "import matplotlib.pyplot as plt\n",
    "import random\n",
    "\n",
    "# Config the matplotlib backend as plotting inline in IPython\n",
    "%matplotlib inline\n",
    "\n",
    "def summary(ndarr):\n",
    "    print(ndarr)\n",
    "    print(\"* shape: {}\".format(ndarr.shape))\n",
    "    print(\"* min: {}\".format(np.min(ndarr)))\n",
    "    print(\"* max: {}\".format(np.max(ndarr)))\n",
    "    print(\"* avg: {}\".format(np.mean(ndarr)))\n",
    "    print(\"* std: {}\".format(np.std(ndarr)))\n",
    "    print(\"* unique: {}\".format(np.unique(ndarr)))"
   ]
  },
  {
   "cell_type": "code",
   "execution_count": 50,
   "metadata": {},
   "outputs": [
    {
     "name": "stdout",
     "output_type": "stream",
     "text": [
      "Extracting MNIST_data/train-images-idx3-ubyte.gz\n",
      "Extracting MNIST_data/train-labels-idx1-ubyte.gz\n",
      "Extracting MNIST_data/t10k-images-idx3-ubyte.gz\n",
      "Extracting MNIST_data/t10k-labels-idx1-ubyte.gz\n"
     ]
    }
   ],
   "source": [
    "from tensorflow.examples.tutorials.mnist import input_data\n",
    "mnist = input_data.read_data_sets(\"MNIST_data/\", one_hot=True)\n",
    "\n",
    "train_data = mnist.train\n",
    "valid_data = mnist.validation\n",
    "test_data = mnist.test"
   ]
  },
  {
   "cell_type": "code",
   "execution_count": 51,
   "metadata": {},
   "outputs": [],
   "source": [
    "def plot_fatten_img(ndarr):\n",
    "    img = ndarr.copy()\n",
    "    img.shape = (28,28)\n",
    "    plt.imshow(img, cmap='gray')\n",
    "    plt.show()"
   ]
  },
  {
   "cell_type": "code",
   "execution_count": 98,
   "metadata": {},
   "outputs": [],
   "source": [
    "class Autoencoder(object):\n",
    "    def __init__(self,n_features,learning_rate=0.5,n_hidden=[128,64],alpha=0.0):\n",
    "        self.n_features = n_features\n",
    "        self.graph = tf.Graph()\n",
    "        self.build(n_features,learning_rate,n_hidden,alpha)\n",
    "        self.sess = tf.Session(graph=self.graph)\n",
    "        \n",
    "    def build(self,n_features,learning_rate,n_hidden,alpha):\n",
    "        with self.graph.as_default():\n",
    "            ### Input\n",
    "            self.features = tf.placeholder(tf.float32, shape=(None,n_features))\n",
    "            self.target  = tf.placeholder(tf.float32, shape=(None,n_features))\n",
    "            \n",
    "            ### Computation\n",
    "            self.weights = {}\n",
    "            self.biases = {}\n",
    "            self.scores = {}\n",
    "            self.X = {}\n",
    "            \n",
    "            # input layer\n",
    "            self.weights['e1'], self.biases['e1'], self.scores['e1'] = self.getDenseLayer(self.features,n_hidden[0])\n",
    "            \n",
    "            # encoder layers\n",
    "            self.X['e2'] = tf.nn.sigmoid(self.scores['e1'])\n",
    "            self.weights['e2'], self.biases['e2'], self.scores['e2'] = self.getDenseLayer(self.X['e2'],n_hidden[1])\n",
    "            \n",
    "            # code layer\n",
    "            self.code = tf.nn.sigmoid(self.scores['e2'])\n",
    "            \n",
    "            # decoder layers\n",
    "            self.weights['d1'], self.biases['d1'], self.scores['d1'] = self.getDenseLayer(self.code,n_hidden[0])\n",
    "            self.X['d2'] = tf.nn.sigmoid(self.scores['d1'])\n",
    "            \n",
    "            # output layer\n",
    "            self.weights['d2'], self.biases['d2'], self.logits = self.getDenseLayer(self.X['d2'],n_features)\n",
    "            self.y = tf.nn.sigmoid(self.logits)\n",
    "\n",
    "            ### Optimalization\n",
    "            self.original_loss = tf.reduce_mean(tf.pow(self.y - self.target, 2))\n",
    "            \n",
    "            self.regularization = tf.reduce_sum(\n",
    "                                   [tf.nn.l2_loss(w)/\n",
    "                                      tf.cast(tf.shape(w)[0]*tf.shape(w)[1],tf.float32) for k,w in self.weights.items()])\n",
    "            \n",
    "            self.loss = self.original_loss + alpha * self.regularization\n",
    "            \n",
    "            self.train_op = tf.train.AdamOptimizer(learning_rate=learning_rate).minimize(self.loss)\n",
    "            \n",
    "            ### Initialization\n",
    "            self.init_op = tf.global_variables_initializer()  \n",
    "            \n",
    "    def getDenseLayer(self,input_layer,n_output):\n",
    "        with self.graph.as_default():\n",
    "            n_input = int(input_layer.shape[1])\n",
    "            W = tf.Variable(\n",
    "                    tf.truncated_normal( shape=(n_input,n_output) ))\n",
    "            b = tf.Variable(tf.zeros( shape=(n_output) ))\n",
    "            s = tf.add(tf.matmul(input_layer,W),b)\n",
    "        return (W,b,s)\n",
    "    \n",
    "    \n",
    "    def fit(self,X,y,epochs=10,validation_data=None,test_data=None,batch_size=None):\n",
    "        N = X.shape[0]\n",
    "        random.seed(9000)\n",
    "        if not batch_size: batch_size=N\n",
    "        \n",
    "        self.sess.run(self.init_op)\n",
    "        for epoch in range(epochs):\n",
    "            print(\"Epoch %2d/%2d: \"%(epoch+1,epochs))\n",
    "            index = random.shuffle([i for i in range(N)])\n",
    "\n",
    "            k = 0\n",
    "            while k < N:\n",
    "                batch_index = [i for i in range(k,min(k+batch_size,N))]    \n",
    "            \n",
    "                feed_dict = {self.features: X[batch_index,:], self.target: y[batch_index,:]}\n",
    "                _, loss, predictions = self.sess.run([self.train_op, self.loss, self.y], feed_dict=feed_dict)\n",
    "\n",
    "                print(\"[%d/%d] loss = %9.4f                      \" % ( k, N, loss ), end='\\r')\n",
    "                \n",
    "                k += batch_size\n",
    "            \n",
    "            msg_valid = \"\"\n",
    "            if validation_data:\n",
    "                val_loss = self.evaluate(validation_data[0],validation_data[1])\n",
    "                msg_valid = \", val_loss = %9.4f\" % ( val_loss )\n",
    "            \n",
    "            train_loss = self.evaluate(X,y)\n",
    "            print(\"[%d/%d] loss = %9.4f %s\" % ( N, N, train_loss, msg_valid ))\n",
    "            \n",
    "           # reverse_imgs = self.predict(test_data[0])\n",
    "            #plot_fatten_img(reverse_imgs[10])\n",
    "            \n",
    "        if test_data:\n",
    "            test_loss = self.evaluate(test_data[0],test_data[1])\n",
    "            print(\"test_loss = %9.4f\" % (test_loss))\n",
    "    \n",
    "    def predict(self,X):\n",
    "        if len(X.shape)==1: X = np.reshape(X,(1,X.shape[0]))\n",
    "        return self.sess.run(self.y, feed_dict={self.features: X})\n",
    "    \n",
    "    def evaluate(self,X,y):\n",
    "        if len(X.shape)==1: X = np.reshape(X,(1,X.shape[0]))\n",
    "        if len(y.shape)==1: y = np.reshape(y,(1,y.shape[0]))\n",
    "        return self.sess.run(self.loss, feed_dict={self.features: X, self.target: y})\n"
   ]
  },
  {
   "cell_type": "code",
   "execution_count": 102,
   "metadata": {},
   "outputs": [
    {
     "name": "stdout",
     "output_type": "stream",
     "text": [
      "Epoch  1/10: \n",
      "[55000/55000] loss =    0.0705 , val_loss =    0.0704\n",
      "Epoch  2/10: \n",
      "[55000/55000] loss =    0.0604 , val_loss =    0.0603\n",
      "Epoch  3/10: \n",
      "[55000/55000] loss =    0.0545 , val_loss =    0.0544\n",
      "Epoch  4/10: \n",
      "[55000/55000] loss =    0.0516 , val_loss =    0.0516\n",
      "Epoch  5/10: \n",
      "[55000/55000] loss =    0.0488 , val_loss =    0.0488\n",
      "Epoch  6/10: \n",
      "[55000/55000] loss =    0.0469 , val_loss =    0.0470\n",
      "Epoch  7/10: \n",
      "[55000/55000] loss =    0.0438 , val_loss =    0.0440\n",
      "Epoch  8/10: \n",
      "[55000/55000] loss =    0.0426 , val_loss =    0.0427\n",
      "Epoch  9/10: \n",
      "[55000/55000] loss =    0.0426 , val_loss =    0.0427\n",
      "Epoch 10/10: \n",
      "[55000/55000] loss =    0.0411 , val_loss =    0.0413\n",
      "test_loss =    0.0412\n"
     ]
    },
    {
     "data": {
      "image/png": "[encoded data removed]",
      "text/plain": [
       "<matplotlib.figure.Figure at 0x11a87ccf8>"
      ]
     },
     "metadata": {},
     "output_type": "display_data"
    }
   ],
   "source": [
    "model = Autoencoder( n_features=28*28,\n",
    "                     learning_rate= 0.01,\n",
    "                     n_hidden=[256,128],\n",
    "                     alpha=0.0,\n",
    "                    )\n",
    "model.fit(X=train_data.images,\n",
    "          y=train_data.images,\n",
    "          epochs=10,\n",
    "          validation_data=(valid_data.images,valid_data.images),\n",
    "          test_data=(test_data.images,test_data.images),\n",
    "          batch_size = 256,\n",
    "         )\n",
    "\n",
    "fig, axis = plt.subplots(2, 10, figsize=(10, 2))\n",
    "for i in range(0,10):\n",
    "    img_original = np.reshape(test_data.images[i],(28,28))\n",
    "    axis[0][i].imshow(img_original, cmap='gray')\n",
    "    img = np.reshape(model.predict(test_data.images[i]),(28,28))\n",
    "    axis[1][i].imshow(img, cmap='gray')\n",
    "plt.show()"
   ]
  },
  {
   "cell_type": "code",
   "execution_count": 103,
   "metadata": {},
   "outputs": [
    {
     "name": "stdout",
     "output_type": "stream",
     "text": [
      "Epoch  1/10: \n",
      "[55000/55000] loss =    0.0918 , val_loss =    0.0917\n",
      "Epoch  2/10: \n",
      "[55000/55000] loss =    0.0544 , val_loss =    0.0545\n",
      "Epoch  3/10: \n",
      "[55000/55000] loss =    0.0378 , val_loss =    0.0378\n",
      "Epoch  4/10: \n",
      "[55000/55000] loss =    0.0296 , val_loss =    0.0296\n",
      "Epoch  5/10: \n",
      "[55000/55000] loss =    0.0243 , val_loss =    0.0243\n",
      "Epoch  6/10: \n",
      "[55000/55000] loss =    0.0212 , val_loss =    0.0213\n",
      "Epoch  7/10: \n",
      "[55000/55000] loss =    0.0186 , val_loss =    0.0187\n",
      "Epoch  8/10: \n",
      "[55000/55000] loss =    0.0177 , val_loss =    0.0178\n",
      "Epoch  9/10: \n",
      "[55000/55000] loss =    0.0167 , val_loss =    0.0168\n",
      "Epoch 10/10: \n",
      "[55000/55000] loss =    0.0161 , val_loss =    0.0162\n",
      "test_loss =    0.0160\n"
     ]
    },
    {
     "data": {
      "image/png": "[encoded data removed]",
      "text/plain": [
       "<matplotlib.figure.Figure at 0x11a807080>"
      ]
     },
     "metadata": {},
     "output_type": "display_data"
    }
   ],
   "source": [
    "model2 = Autoencoder( n_features=28*28,\n",
    "                     learning_rate= 0.01,\n",
    "                     n_hidden=[256,128],\n",
    "                     alpha=0.1,\n",
    "                    )\n",
    "model2.fit(X=train_data.images,\n",
    "          y=train_data.images,\n",
    "          epochs=10,\n",
    "          validation_data=(valid_data.images,valid_data.images),\n",
    "          test_data=(test_data.images,test_data.images),\n",
    "          batch_size = 256,\n",
    "         )\n",
    "\n",
    "fig, axis = plt.subplots(2, 10, figsize=(10, 2))\n",
    "for i in range(0,10):\n",
    "    img_original = np.reshape(test_data.images[i],(28,28))\n",
    "    axis[0][i].imshow(img_original, cmap='gray')\n",
    "    img = np.reshape(model2.predict(test_data.images[i]),(28,28))\n",
    "    axis[1][i].imshow(img, cmap='gray')\n",
    "plt.show()"
   ]
  },
  {
   "cell_type": "code",
   "execution_count": null,
   "metadata": {},
   "outputs": [],
   "source": []
  },
  {
   "cell_type": "code",
   "execution_count": null,
   "metadata": {},
   "outputs": [],
   "source": []
  }
 ],
 "metadata": {
  "kernelspec": {
   "display_name": "Python 3",
   "language": "python",
   "name": "python3"
  },
  "language_info": {
   "codemirror_mode": {
    "name": "ipython",
    "version": 3
   },
   "file_extension": ".py",
   "mimetype": "text/x-python",
   "name": "python",
   "nbconvert_exporter": "python",
   "pygments_lexer": "ipython3",
   "version": "3.6.1"
  }
 },
 "nbformat": 4,
 "nbformat_minor": 2
}
